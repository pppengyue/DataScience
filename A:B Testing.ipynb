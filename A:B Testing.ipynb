{
 "cells": [
  {
   "cell_type": "code",
   "execution_count": 1,
   "metadata": {},
   "outputs": [
    {
     "name": "stdout",
     "output_type": "stream",
     "text": [
      "Requirement already satisfied: scipy in /Library/Frameworks/Python.framework/Versions/3.11/lib/python3.11/site-packages (1.10.1)\n",
      "Requirement already satisfied: numpy<1.27.0,>=1.19.5 in /Library/Frameworks/Python.framework/Versions/3.11/lib/python3.11/site-packages (from scipy) (1.24.3)\n",
      "\n",
      "\u001b[1m[\u001b[0m\u001b[34;49mnotice\u001b[0m\u001b[1;39;49m]\u001b[0m\u001b[39;49m A new release of pip available: \u001b[0m\u001b[31;49m22.3.1\u001b[0m\u001b[39;49m -> \u001b[0m\u001b[32;49m23.1.2\u001b[0m\n",
      "\u001b[1m[\u001b[0m\u001b[34;49mnotice\u001b[0m\u001b[1;39;49m]\u001b[0m\u001b[39;49m To update, run: \u001b[0m\u001b[32;49mpip3 install --upgrade pip\u001b[0m\n",
      "Note: you may need to restart the kernel to use updated packages.\n"
     ]
    }
   ],
   "source": [
    "pip install scipy"
   ]
  },
  {
   "cell_type": "code",
   "execution_count": 2,
   "metadata": {},
   "outputs": [],
   "source": [
    "import pandas as pd\n",
    "import seaborn as sns\n",
    "from scipy import stats"
   ]
  },
  {
   "cell_type": "code",
   "execution_count": 3,
   "metadata": {},
   "outputs": [
    {
     "data": {
      "text/html": [
       "<div>\n",
       "<style scoped>\n",
       "    .dataframe tbody tr th:only-of-type {\n",
       "        vertical-align: middle;\n",
       "    }\n",
       "\n",
       "    .dataframe tbody tr th {\n",
       "        vertical-align: top;\n",
       "    }\n",
       "\n",
       "    .dataframe thead th {\n",
       "        text-align: right;\n",
       "    }\n",
       "</style>\n",
       "<table border=\"1\" class=\"dataframe\">\n",
       "  <thead>\n",
       "    <tr style=\"text-align: right;\">\n",
       "      <th></th>\n",
       "      <th>Unnamed: 0</th>\n",
       "      <th>Age</th>\n",
       "      <th>Location</th>\n",
       "      <th>Device</th>\n",
       "      <th>Variant</th>\n",
       "      <th>Time Spent</th>\n",
       "      <th>CTR</th>\n",
       "    </tr>\n",
       "  </thead>\n",
       "  <tbody>\n",
       "    <tr>\n",
       "      <th>0</th>\n",
       "      <td>0</td>\n",
       "      <td>62</td>\n",
       "      <td>Location2</td>\n",
       "      <td>Device2</td>\n",
       "      <td>Control</td>\n",
       "      <td>13.928669</td>\n",
       "      <td>0.084776</td>\n",
       "    </tr>\n",
       "    <tr>\n",
       "      <th>1</th>\n",
       "      <td>1</td>\n",
       "      <td>18</td>\n",
       "      <td>Location1</td>\n",
       "      <td>Device1</td>\n",
       "      <td>Variant B</td>\n",
       "      <td>11.310518</td>\n",
       "      <td>0.096859</td>\n",
       "    </tr>\n",
       "    <tr>\n",
       "      <th>2</th>\n",
       "      <td>2</td>\n",
       "      <td>21</td>\n",
       "      <td>Location2</td>\n",
       "      <td>Device1</td>\n",
       "      <td>Variant B</td>\n",
       "      <td>24.842100</td>\n",
       "      <td>0.097630</td>\n",
       "    </tr>\n",
       "    <tr>\n",
       "      <th>3</th>\n",
       "      <td>3</td>\n",
       "      <td>21</td>\n",
       "      <td>Location1</td>\n",
       "      <td>Device3</td>\n",
       "      <td>Variant B</td>\n",
       "      <td>20.061300</td>\n",
       "      <td>0.109783</td>\n",
       "    </tr>\n",
       "    <tr>\n",
       "      <th>4</th>\n",
       "      <td>4</td>\n",
       "      <td>57</td>\n",
       "      <td>Location1</td>\n",
       "      <td>Device2</td>\n",
       "      <td>Variant B</td>\n",
       "      <td>34.495503</td>\n",
       "      <td>0.068579</td>\n",
       "    </tr>\n",
       "  </tbody>\n",
       "</table>\n",
       "</div>"
      ],
      "text/plain": [
       "   Unnamed: 0  Age   Location   Device    Variant  Time Spent       CTR\n",
       "0           0   62  Location2  Device2    Control   13.928669  0.084776\n",
       "1           1   18  Location1  Device1  Variant B   11.310518  0.096859\n",
       "2           2   21  Location2  Device1  Variant B   24.842100  0.097630\n",
       "3           3   21  Location1  Device3  Variant B   20.061300  0.109783\n",
       "4           4   57  Location1  Device2  Variant B   34.495503  0.068579"
      ]
     },
     "execution_count": 3,
     "metadata": {},
     "output_type": "execute_result"
    }
   ],
   "source": [
    "df=pd.read_csv(\"/Users/yuepeng/Desktop/MBAN6110 Data Science1/Assignment/Assignment2/experiment_dataset.csv\")\n",
    "df.head()"
   ]
  },
  {
   "cell_type": "code",
   "execution_count": 4,
   "metadata": {},
   "outputs": [
    {
     "name": "stdout",
     "output_type": "stream",
     "text": [
      "<class 'pandas.core.frame.DataFrame'>\n",
      "RangeIndex: 1000 entries, 0 to 999\n",
      "Data columns (total 6 columns):\n",
      " #   Column      Non-Null Count  Dtype  \n",
      "---  ------      --------------  -----  \n",
      " 0   Age         1000 non-null   int64  \n",
      " 1   Location    1000 non-null   object \n",
      " 2   Device      1000 non-null   object \n",
      " 3   Variant     1000 non-null   object \n",
      " 4   Time Spent  1000 non-null   float64\n",
      " 5   CTR         1000 non-null   float64\n",
      "dtypes: float64(2), int64(1), object(3)\n",
      "memory usage: 47.0+ KB\n"
     ]
    }
   ],
   "source": [
    "df.drop('Unnamed: 0', axis=1, inplace = True)\n",
    "df.info()"
   ]
  },
  {
   "cell_type": "code",
   "execution_count": 5,
   "metadata": {},
   "outputs": [
    {
     "data": {
      "text/html": [
       "<div>\n",
       "<style scoped>\n",
       "    .dataframe tbody tr th:only-of-type {\n",
       "        vertical-align: middle;\n",
       "    }\n",
       "\n",
       "    .dataframe tbody tr th {\n",
       "        vertical-align: top;\n",
       "    }\n",
       "\n",
       "    .dataframe thead th {\n",
       "        text-align: right;\n",
       "    }\n",
       "</style>\n",
       "<table border=\"1\" class=\"dataframe\">\n",
       "  <thead>\n",
       "    <tr style=\"text-align: right;\">\n",
       "      <th></th>\n",
       "      <th>CTR</th>\n",
       "      <th>Time Spent</th>\n",
       "    </tr>\n",
       "    <tr>\n",
       "      <th>Location</th>\n",
       "      <th></th>\n",
       "      <th></th>\n",
       "    </tr>\n",
       "  </thead>\n",
       "  <tbody>\n",
       "    <tr>\n",
       "      <th>Location1</th>\n",
       "      <td>0.110217</td>\n",
       "      <td>22.707286</td>\n",
       "    </tr>\n",
       "    <tr>\n",
       "      <th>Location2</th>\n",
       "      <td>0.108517</td>\n",
       "      <td>22.648998</td>\n",
       "    </tr>\n",
       "    <tr>\n",
       "      <th>Location3</th>\n",
       "      <td>0.108708</td>\n",
       "      <td>22.787691</td>\n",
       "    </tr>\n",
       "  </tbody>\n",
       "</table>\n",
       "</div>"
      ],
      "text/plain": [
       "                CTR  Time Spent\n",
       "Location                       \n",
       "Location1  0.110217   22.707286\n",
       "Location2  0.108517   22.648998\n",
       "Location3  0.108708   22.787691"
      ]
     },
     "execution_count": 5,
     "metadata": {},
     "output_type": "execute_result"
    }
   ],
   "source": [
    "#By Location - to check user's behavior are similar\n",
    "df.groupby('Location')[['CTR','Time Spent']].mean()\n",
    "#Seems like there's no significant difference between locations in terms of CTR and Time Spent."
   ]
  },
  {
   "cell_type": "code",
   "execution_count": 6,
   "metadata": {},
   "outputs": [
    {
     "name": "stdout",
     "output_type": "stream",
     "text": [
      "F_onewayResult(statistic=0.5792245145655729, pvalue=0.5605211716238133)\n"
     ]
    }
   ],
   "source": [
    "# checking CTR - by location\n",
    "loc_1 = df[df['Location'] == 'Location1']['CTR']\n",
    "loc_2 = df[df['Location'] == 'Location2']['CTR']\n",
    "loc_3 = df[df['Location'] == 'Location3']['CTR']\n",
    "\n",
    "p_val = stats.f_oneway(loc_1, loc_2, loc_3)\n",
    "print(p_val)"
   ]
  },
  {
   "cell_type": "code",
   "execution_count": 7,
   "metadata": {},
   "outputs": [
    {
     "name": "stdout",
     "output_type": "stream",
     "text": [
      "F_onewayResult(statistic=0.053578839670573676, pvalue=0.9478339402848069)\n"
     ]
    }
   ],
   "source": [
    "# checking Time Spent - by location\n",
    "loc_1 = df[df['Location'] == 'Location1']['Time Spent']\n",
    "loc_2 = df[df['Location'] == 'Location2']['Time Spent']\n",
    "loc_3 = df[df['Location'] == 'Location3']['Time Spent']\n",
    "\n",
    "p_val = stats.f_oneway(loc_1, loc_2, loc_3)\n",
    "print(p_val)"
   ]
  },
  {
   "cell_type": "code",
   "execution_count": 10,
   "metadata": {},
   "outputs": [],
   "source": [
    "#We still see the CTR and Time Spent are mostly similar in 3 different locations"
   ]
  },
  {
   "cell_type": "code",
   "execution_count": 11,
   "metadata": {},
   "outputs": [
    {
     "data": {
      "text/html": [
       "<div>\n",
       "<style scoped>\n",
       "    .dataframe tbody tr th:only-of-type {\n",
       "        vertical-align: middle;\n",
       "    }\n",
       "\n",
       "    .dataframe tbody tr th {\n",
       "        vertical-align: top;\n",
       "    }\n",
       "\n",
       "    .dataframe thead th {\n",
       "        text-align: right;\n",
       "    }\n",
       "</style>\n",
       "<table border=\"1\" class=\"dataframe\">\n",
       "  <thead>\n",
       "    <tr style=\"text-align: right;\">\n",
       "      <th></th>\n",
       "      <th>CTR</th>\n",
       "      <th>Time Spent</th>\n",
       "    </tr>\n",
       "    <tr>\n",
       "      <th>Device</th>\n",
       "      <th></th>\n",
       "      <th></th>\n",
       "    </tr>\n",
       "  </thead>\n",
       "  <tbody>\n",
       "    <tr>\n",
       "      <th>Device1</th>\n",
       "      <td>0.109634</td>\n",
       "      <td>22.635032</td>\n",
       "    </tr>\n",
       "    <tr>\n",
       "      <th>Device2</th>\n",
       "      <td>0.109868</td>\n",
       "      <td>22.890021</td>\n",
       "    </tr>\n",
       "    <tr>\n",
       "      <th>Device3</th>\n",
       "      <td>0.107993</td>\n",
       "      <td>22.612276</td>\n",
       "    </tr>\n",
       "  </tbody>\n",
       "</table>\n",
       "</div>"
      ],
      "text/plain": [
       "              CTR  Time Spent\n",
       "Device                       \n",
       "Device1  0.109634   22.635032\n",
       "Device2  0.109868   22.890021\n",
       "Device3  0.107993   22.612276"
      ]
     },
     "execution_count": 11,
     "metadata": {},
     "output_type": "execute_result"
    }
   ],
   "source": [
    "#By Device - to check user's behavior are similar\n",
    "df.groupby('Device')[['CTR','Time Spent']].mean()\n",
    "#Seems like there's no significant difference on different devices in terms of CTR and Time Spent."
   ]
  },
  {
   "cell_type": "code",
   "execution_count": 12,
   "metadata": {},
   "outputs": [
    {
     "name": "stdout",
     "output_type": "stream",
     "text": [
      "F_onewayResult(statistic=0.7105872492654717, pvalue=0.4916042399968955)\n"
     ]
    }
   ],
   "source": [
    "# checking CTR - thru devices\n",
    "Dev_1 = df[df['Device'] == 'Device1']['CTR']\n",
    "Dev_2 = df[df['Device'] == 'Device2']['CTR']\n",
    "Dev_3 = df[df['Device'] == 'Device3']['CTR']\n",
    "\n",
    "p_val = stats.f_oneway(Dev_1, Dev_2, Dev_3)\n",
    "print(p_val)"
   ]
  },
  {
   "cell_type": "code",
   "execution_count": 13,
   "metadata": {},
   "outputs": [
    {
     "name": "stdout",
     "output_type": "stream",
     "text": [
      "F_onewayResult(statistic=0.26645371811833884, pvalue=0.7661459958744103)\n"
     ]
    }
   ],
   "source": [
    "# checking CTR - thru devices\n",
    "Dev_1 = df[df['Device'] == 'Device1']['Time Spent']\n",
    "Dev_2 = df[df['Device'] == 'Device2']['Time Spent']\n",
    "Dev_3 = df[df['Device'] == 'Device3']['Time Spent']\n",
    "\n",
    "p_val = stats.f_oneway(Dev_1, Dev_2, Dev_3)\n",
    "print(p_val)"
   ]
  },
  {
   "cell_type": "code",
   "execution_count": 14,
   "metadata": {},
   "outputs": [],
   "source": [
    "#We still see the CTR and Time Spent are mostly similar on 3 different devices"
   ]
  },
  {
   "cell_type": "code",
   "execution_count": 9,
   "metadata": {},
   "outputs": [
    {
     "data": {
      "text/html": [
       "<div>\n",
       "<style scoped>\n",
       "    .dataframe tbody tr th:only-of-type {\n",
       "        vertical-align: middle;\n",
       "    }\n",
       "\n",
       "    .dataframe tbody tr th {\n",
       "        vertical-align: top;\n",
       "    }\n",
       "\n",
       "    .dataframe thead th {\n",
       "        text-align: right;\n",
       "    }\n",
       "</style>\n",
       "<table border=\"1\" class=\"dataframe\">\n",
       "  <thead>\n",
       "    <tr style=\"text-align: right;\">\n",
       "      <th></th>\n",
       "      <th>Age</th>\n",
       "      <th>Location</th>\n",
       "      <th>Device</th>\n",
       "      <th>Time Spent</th>\n",
       "      <th>CTR</th>\n",
       "    </tr>\n",
       "    <tr>\n",
       "      <th>Variant</th>\n",
       "      <th></th>\n",
       "      <th></th>\n",
       "      <th></th>\n",
       "      <th></th>\n",
       "      <th></th>\n",
       "    </tr>\n",
       "  </thead>\n",
       "  <tbody>\n",
       "    <tr>\n",
       "      <th>Control</th>\n",
       "      <td>340</td>\n",
       "      <td>340</td>\n",
       "      <td>340</td>\n",
       "      <td>340</td>\n",
       "      <td>340</td>\n",
       "    </tr>\n",
       "    <tr>\n",
       "      <th>Variant A</th>\n",
       "      <td>330</td>\n",
       "      <td>330</td>\n",
       "      <td>330</td>\n",
       "      <td>330</td>\n",
       "      <td>330</td>\n",
       "    </tr>\n",
       "    <tr>\n",
       "      <th>Variant B</th>\n",
       "      <td>330</td>\n",
       "      <td>330</td>\n",
       "      <td>330</td>\n",
       "      <td>330</td>\n",
       "      <td>330</td>\n",
       "    </tr>\n",
       "  </tbody>\n",
       "</table>\n",
       "</div>"
      ],
      "text/plain": [
       "           Age  Location  Device  Time Spent  CTR\n",
       "Variant                                          \n",
       "Control    340       340     340         340  340\n",
       "Variant A  330       330     330         330  330\n",
       "Variant B  330       330     330         330  330"
      ]
     },
     "execution_count": 9,
     "metadata": {},
     "output_type": "execute_result"
    }
   ],
   "source": [
    "df.groupby('Variant').count()\n",
    "#Variant A and Variant B are experimented on 330 users respectively\n",
    "#And 340 for control group "
   ]
  },
  {
   "attachments": {},
   "cell_type": "markdown",
   "metadata": {},
   "source": [
    "ANOVA TEST"
   ]
  },
  {
   "cell_type": "code",
   "execution_count": 15,
   "metadata": {},
   "outputs": [
    {
     "name": "stdout",
     "output_type": "stream",
     "text": [
      "F-statistic: 93.58891593622702\n",
      "P-value: 5.638952705781554e-38\n"
     ]
    }
   ],
   "source": [
    "Variant_A = df[df['Variant'] == 'Variant A']['CTR']\n",
    "Variant_B = df[df['Variant'] == 'Variant B']['CTR']\n",
    "Control =df[df['Variant'] == 'Control']['CTR']\n",
    "\n",
    "f_stat, p_val = stats.f_oneway(Variant_A, Variant_B, Control)\n",
    "\n",
    "print(f\"F-statistic: {f_stat}\")\n",
    "print(f\"P-value: {p_val}\")\n",
    "#there is a statistically significant difference in CTR between at least one of the Variants and Control groups."
   ]
  },
  {
   "cell_type": "code",
   "execution_count": 16,
   "metadata": {},
   "outputs": [
    {
     "name": "stdout",
     "output_type": "stream",
     "text": [
      "F-statistic: 75.60840947416146\n",
      "P-value: 2.676826588910432e-31\n"
     ]
    }
   ],
   "source": [
    "Variant_A = df[df['Variant'] == 'Variant A']['Time Spent']\n",
    "Variant_B = df[df['Variant'] == 'Variant B']['Time Spent']\n",
    "Control =df[df['Variant'] == 'Control']['Time Spent']\n",
    "\n",
    "f_stat, p_val = stats.f_oneway(Variant_A, Variant_B, Control)\n",
    "\n",
    "print(f\"F-statistic: {f_stat}\")\n",
    "print(f\"P-value: {p_val}\")\n",
    "#there is a significant difference in Average Time Spent among at least one of the variants."
   ]
  },
  {
   "attachments": {},
   "cell_type": "markdown",
   "metadata": {},
   "source": [
    "T-TEST"
   ]
  },
  {
   "cell_type": "code",
   "execution_count": 18,
   "metadata": {},
   "outputs": [
    {
     "name": "stdout",
     "output_type": "stream",
     "text": [
      "T-statistic: 7.08499696316128\n",
      "P-value: 3.587180487986577e-12\n",
      "T-statistic: 13.829424737499187\n",
      "P-value: 1.9602781373243157e-38\n",
      "T-statistic: 6.4718143491783255\n",
      "P-value: 1.8743198199982106e-10\n"
     ]
    }
   ],
   "source": [
    "Variant_A = df[df['Variant'] == 'Variant A']['CTR']\n",
    "Variant_B = df[df['Variant'] == 'Variant B']['CTR']\n",
    "Control = df[df['Variant'] == 'Control']['CTR']\n",
    "\n",
    "t_stat1, p_val1 = stats.ttest_ind(Variant_A, Variant_B)\n",
    "t_stat2, p_val2 = stats.ttest_ind(Variant_A, Control)\n",
    "t_stat3, p_val3 = stats.ttest_ind(Variant_B, Control)\n",
    "\n",
    "print(f\"T-statistic: {t_stat1}\")\n",
    "print(f\"P-value: {p_val1}\")\n",
    "\n",
    "print(f\"T-statistic: {t_stat2}\")\n",
    "print(f\"P-value: {p_val2}\")\n",
    "\n",
    "print(f\"T-statistic: {t_stat3}\")\n",
    "print(f\"P-value: {p_val3}\")\n",
    "\n",
    "#there is strong evidence to suggest a significant difference in Click-Through-Rate (CTR) between both Variants and control group."
   ]
  },
  {
   "cell_type": "code",
   "execution_count": 19,
   "metadata": {},
   "outputs": [
    {
     "name": "stdout",
     "output_type": "stream",
     "text": [
      "T-statistic: 3.6788175394209075\n",
      "P-value: 0.0002534771014765265\n",
      "T-statistic: 12.142363487472364\n",
      "P-value: 8.488565644996449e-31\n",
      "T-statistic: 8.174237395991806\n",
      "P-value: 1.496358076285182e-15\n"
     ]
    }
   ],
   "source": [
    "Variant_A = df[df['Variant'] == 'Variant A']['Time Spent']\n",
    "Variant_B = df[df['Variant'] == 'Variant B']['Time Spent']\n",
    "Control = df[df['Variant'] == 'Control']['Time Spent']\n",
    "\n",
    "t_stat1, p_val1 = stats.ttest_ind(Variant_A, Variant_B)\n",
    "t_stat2, p_val2 = stats.ttest_ind(Variant_A, Control)\n",
    "t_stat3, p_val3 = stats.ttest_ind(Variant_B, Control)\n",
    "\n",
    "print(f\"T-statistic: {t_stat1}\")\n",
    "print(f\"P-value: {p_val1}\")\n",
    "\n",
    "print(f\"T-statistic: {t_stat2}\")\n",
    "print(f\"P-value: {p_val2}\")\n",
    "\n",
    "print(f\"T-statistic: {t_stat3}\")\n",
    "print(f\"P-value: {p_val3}\")\n",
    "\n",
    "#there is strong evidence to suggest a significant difference in Time Spent between both Variants and control group."
   ]
  },
  {
   "cell_type": "code",
   "execution_count": 20,
   "metadata": {},
   "outputs": [
    {
     "data": {
      "text/plain": [
       "<seaborn.axisgrid.FacetGrid at 0x13a398890>"
      ]
     },
     "execution_count": 20,
     "metadata": {},
     "output_type": "execute_result"
    },
    {
     "data": {
      "image/png": "[encoded data removed]",
      "text/plain": [
       "<Figure size 613.5x500 with 1 Axes>"
      ]
     },
     "metadata": {},
     "output_type": "display_data"
    }
   ],
   "source": [
    "sns.lmplot(data = df, x='Time Spent', y='CTR', hue = 'Variant')"
   ]
  },
  {
   "attachments": {},
   "cell_type": "markdown",
   "metadata": {},
   "source": [
    "CHI-SQUARED TEST"
   ]
  },
  {
   "cell_type": "code",
   "execution_count": 21,
   "metadata": {},
   "outputs": [
    {
     "name": "stdout",
     "output_type": "stream",
     "text": [
      "Chi-squared: 117.21691236697264\n",
      "P-value: 6.257182893199448e-23\n"
     ]
    }
   ],
   "source": [
    "# Convert 'CTR' to a categorical variable\n",
    "df['CTR_cat'] = pd.cut(df['CTR'], bins=[0, 0.10, 0.11, 0.12, 0.14])\n",
    "\n",
    "# Create a contingency table\n",
    "contingency_table = pd.crosstab(df['Variant'], df['CTR_cat'])\n",
    "\n",
    "chi2, p_val, dof, expected = stats.chi2_contingency(contingency_table)\n",
    "\n",
    "print(f\"Chi-squared: {chi2}\")\n",
    "print(f\"P-value: {p_val}\")\n",
    "\n",
    "#The CTR are not distributed equally across the different Variants and control group, indicating that the different variants have a significant impact on the CTR distribution."
   ]
  },
  {
   "cell_type": "code",
   "execution_count": 22,
   "metadata": {},
   "outputs": [
    {
     "name": "stdout",
     "output_type": "stream",
     "text": [
      "Chi-squared: 85.76491924779707\n",
      "P-value: 2.291721364778286e-16\n"
     ]
    }
   ],
   "source": [
    "# Convert 'Time Spent' to a categorical variable\n",
    "df['Time_Spent_cat'] = pd.cut(df['Time Spent'], bins=[0, 20, 22.5, 25, 30])\n",
    "\n",
    "# Create a contingency table\n",
    "contingency_table = pd.crosstab(df['Variant'], df['Time_Spent_cat'])\n",
    "\n",
    "chi2, p_val, dof, expected = stats.chi2_contingency(contingency_table)\n",
    "\n",
    "print(f\"Chi-squared: {chi2}\")\n",
    "print(f\"P-value: {p_val}\")\n",
    "#there is a significant association or relationship between the feature variants and Time Spent."
   ]
  },
  {
   "attachments": {},
   "cell_type": "markdown",
   "metadata": {},
   "source": [
    "non-parametric test, Mann-Whitney, to compare means"
   ]
  },
  {
   "cell_type": "code",
   "execution_count": 23,
   "metadata": {},
   "outputs": [
    {
     "name": "stdout",
     "output_type": "stream",
     "text": [
      "U-statistic: 87509.0\n",
      "P-value: 4.5386476657856684e-36\n",
      "U-statistic: 71870.0\n",
      "P-value: 3.058203406783743e-10\n",
      "U-statistic: 71044.0\n",
      "P-value: 1.2434380758636484e-11\n"
     ]
    }
   ],
   "source": [
    "Variant_A = df[df['Variant'] == 'Variant A']['CTR']\n",
    "Variant_B = df[df['Variant'] == 'Variant B']['CTR']\n",
    "Control = df[df['Variant'] == 'Control']['CTR']\n",
    "\n",
    "U_stat1, p_val1 = stats.mannwhitneyu(Variant_A, Control)\n",
    "U_stat2, p_val2 = stats.mannwhitneyu(Variant_B, Control)\n",
    "U_stat3, p_val3 = stats.mannwhitneyu(Variant_A, Variant_B)\n",
    "\n",
    "print(f\"U-statistic: {U_stat1}\")\n",
    "print(f\"P-value: {p_val1}\")\n",
    "\n",
    "print(f\"U-statistic: {U_stat2}\")\n",
    "print(f\"P-value: {p_val2}\")\n",
    "\n",
    "print(f\"U-statistic: {U_stat3}\")\n",
    "print(f\"P-value: {p_val3}\")\n",
    "#there is a significant difference in CTR between Variant A, Variant B and control group based on the Mann-Whitney U-test results.\n",
    "#the observed difference in CTR is unlikely to be due to random chance, supporting the conclusion that there is a meaningful distinction between the two variants and control group in terms of CTR."
   ]
  },
  {
   "cell_type": "code",
   "execution_count": 24,
   "metadata": {},
   "outputs": [
    {
     "name": "stdout",
     "output_type": "stream",
     "text": [
      "U-statistic: 83568.0\n",
      "P-value: 5.562212497183173e-28\n",
      "U-statistic: 75305.0\n",
      "P-value: 1.758121945241036e-14\n",
      "U-statistic: 63471.0\n",
      "P-value: 0.00023046799187051298\n"
     ]
    }
   ],
   "source": [
    "Variant_A = df[df['Variant'] == 'Variant A']['Time Spent']\n",
    "Variant_B = df[df['Variant'] == 'Variant B']['Time Spent']\n",
    "Control = df[df['Variant'] == 'Control']['Time Spent']\n",
    "\n",
    "U_stat1, p_val1 = stats.mannwhitneyu(Variant_A, Control)\n",
    "U_stat2, p_val2 = stats.mannwhitneyu(Variant_B, Control)\n",
    "U_stat3, p_val3 = stats.mannwhitneyu(Variant_A, Variant_B)\n",
    "\n",
    "print(f\"U-statistic: {U_stat1}\")\n",
    "print(f\"P-value: {p_val1}\")\n",
    "\n",
    "print(f\"U-statistic: {U_stat2}\")\n",
    "print(f\"P-value: {p_val2}\")\n",
    "\n",
    "print(f\"U-statistic: {U_stat3}\")\n",
    "print(f\"P-value: {p_val3}\")\n",
    "#there is a statistically significant difference in Time Spent between Variant A, Variant B and control group. \n",
    "#Variant A, Variant B and control group are likely to have distinct effects on Average Time Spent"
   ]
  },
  {
   "attachments": {},
   "cell_type": "markdown",
   "metadata": {},
   "source": [
    "Kruskal-Wallis test"
   ]
  },
  {
   "cell_type": "code",
   "execution_count": 27,
   "metadata": {},
   "outputs": [
    {
     "name": "stdout",
     "output_type": "stream",
     "text": [
      "The test statistic: 61.23683907904425\n",
      "The p-value of the test: 5.0418433657893706e-14\n"
     ]
    }
   ],
   "source": [
    "Variant_A = df[df['Variant'] == 'Variant A']['CTR']\n",
    "Variant_B = df[df['Variant'] == 'Variant B']['CTR']\n",
    "Control = df[df['Variant'] == 'Variant B']['CTR']\n",
    "\n",
    "H, pval = stats.kruskal(Variant_A, Variant_B, Control)\n",
    "\n",
    "print('The test statistic:', H)\n",
    "print('The p-value of the test:', pval)\n",
    "#there is a significant difference in CTR among Variant A, Variant B, and Control."
   ]
  },
  {
   "cell_type": "code",
   "execution_count": 28,
   "metadata": {},
   "outputs": [
    {
     "name": "stdout",
     "output_type": "stream",
     "text": [
      "The test statistic: 18.097557257636236\n",
      "The p-value of the test: 0.00011753450254317709\n"
     ]
    }
   ],
   "source": [
    "Variant_A = df[df['Variant'] == 'Variant A']['Time Spent']\n",
    "Variant_B = df[df['Variant'] == 'Variant B']['Time Spent']\n",
    "Control = df[df['Variant'] == 'Variant B']['Time Spent']\n",
    "\n",
    "H, pval = stats.kruskal(Variant_A, Variant_B, Control)\n",
    "\n",
    "print('The test statistic:', H)\n",
    "print('The p-value of the test:', pval)\n",
    "#there is a significant difference in Time Spent among Variant A, Variant B, and Control."
   ]
  },
  {
   "cell_type": "code",
   "execution_count": 25,
   "metadata": {},
   "outputs": [
    {
     "name": "stdout",
     "output_type": "stream",
     "text": [
      "                CTR  Time Spent\n",
      "Variant                        \n",
      "Control    0.098554   20.070781\n",
      "Variant A  0.120269   24.805547\n",
      "Variant B  0.108933   23.343783\n"
     ]
    }
   ],
   "source": [
    "results = df.groupby('Variant').agg({'CTR': 'mean', 'Time Spent': 'mean'})\n",
    "print(results)\n",
    "#Both Variant 2 and Variant 1 result in higher average CTR and Time Spent\n",
    "#And Variant 2 is even higher than Variant 1"
   ]
  },
  {
   "cell_type": "code",
   "execution_count": 26,
   "metadata": {},
   "outputs": [
    {
     "name": "stdout",
     "output_type": "stream",
     "text": [
      "10.406808672992076\n",
      "6.261900261160683\n"
     ]
    }
   ],
   "source": [
    "ctr_lift=(results.loc['Variant A', 'CTR'] - results.loc['Variant B', 'CTR'])/results.loc['Variant B', 'CTR']*100\n",
    "print(ctr_lift)\n",
    "\n",
    "time_spent_lift=(results.loc['Variant A', 'Time Spent'] - results.loc['Variant B', 'Time Spent'])/results.loc['Variant B', 'Time Spent']*100\n",
    "print(time_spent_lift)"
   ]
  },
  {
   "attachments": {},
   "cell_type": "markdown",
   "metadata": {},
   "source": [
    "Question 3: Summarize your results. Make a recommendation to the engineering team about which feature to deploy. \n",
    "\n",
    "There is a significant lift in CTR between the feature variants (Variant A and Variant B).\n",
    "Variant A has a 10.41% higher CTR compared to Variant B.\n",
    "\n",
    "There is a significant lift in Average Time Spent between the feature variants (Variant A and Variant B).\n",
    "Variant A shows a 6.26% higher Average Time Spent compared to Variant B.\n",
    "\n",
    "I recommend the engineering team to consider deploying Variant A, as it not only shows a lift in both CTR and Average Time Spent but also has statistically significant differences compared to Variant B and control group."
   ]
  },
  {
   "attachments": {},
   "cell_type": "markdown",
   "metadata": {},
   "source": [
    "Question 4: Create a roll-out plan. How quickly will you introduce the feature to your audience?\n",
    "\n",
    "1. Determine the deployment audience:\n",
    "    In order to monitor the deployment performance of Variant A. To aggragate the audience into several groups and deploy the feature gradradully. We can initially deploy the variant A to 20% of the audience, which are randomly selected in 3 locations resepectively. So that this can minimize any bias related to age or demographics.\n",
    "\n",
    "2. Monitor the performance:\n",
    "    Continuously monitor the CTR & Time Spent during the deployment. Keep track of how variant A performs compared to the control group and variant B.\n",
    "\n",
    "3. Gather feedback from exposed audience: \n",
    "    Collect qualitative feedback from initial 20% of users who are exposed to variant A. This could be done through surveys, interviews, or virtual questionairs within the mobile application.\n",
    "\n",
    "4. Analyze results: \n",
    "    Analyze the collected data and assess the performance of variant A in terms of CTR and Time Spent. Compare the results against the control group and Variant B to evaluate the impact and effectiveness.\n",
    "\n",
    "5. Make further improvements based on feadback and results: \n",
    "    Based on the analysis of the initial deployment on initial 20% of audience, make any necessary adjustments or improvements to variant A. This could include refining the feature, addressing user concerns, or optimizing its functionality.\n",
    "\n",
    "6. Continue deployment to the rest of the audience: \n",
    "    Gradually increase the exposure of variant A to to the rest of the audience, for example, deploy the features to another 30% of the audience in the 2nd round; then 50% in the 3rd round, based on the positive outcomes observed during the previous phase."
   ]
  }
 ],
 "metadata": {
  "kernelspec": {
   "display_name": "Python 3",
   "language": "python",
   "name": "python3"
  },
  "language_info": {
   "codemirror_mode": {
    "name": "ipython",
    "version": 3
   },
   "file_extension": ".py",
   "mimetype": "text/x-python",
   "name": "python",
   "nbconvert_exporter": "python",
   "pygments_lexer": "ipython3",
   "version": "3.11.3"
  },
  "orig_nbformat": 4
 },
 "nbformat": 4,
 "nbformat_minor": 2
}
